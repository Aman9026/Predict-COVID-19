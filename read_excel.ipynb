{
 "cells": [
  {
   "cell_type": "code",
   "execution_count": 1,
   "metadata": {},
   "outputs": [],
   "source": [
    "import pandas as pd\n",
    "import wget\n",
    "import smtplib"
   ]
  },
  {
   "cell_type": "code",
   "execution_count": 2,
   "metadata": {},
   "outputs": [],
   "source": [
    "data = pd.read_csv('Get data.csv')"
   ]
  },
  {
   "cell_type": "code",
   "execution_count": 3,
   "metadata": {},
   "outputs": [
    {
     "data": {
      "text/html": [
       "<div>\n",
       "<style scoped>\n",
       "    .dataframe tbody tr th:only-of-type {\n",
       "        vertical-align: middle;\n",
       "    }\n",
       "\n",
       "    .dataframe tbody tr th {\n",
       "        vertical-align: top;\n",
       "    }\n",
       "\n",
       "    .dataframe thead th {\n",
       "        text-align: right;\n",
       "    }\n",
       "</style>\n",
       "<table border=\"1\" class=\"dataframe\">\n",
       "  <thead>\n",
       "    <tr style=\"text-align: right;\">\n",
       "      <th></th>\n",
       "      <th>Timestamp</th>\n",
       "      <th>email</th>\n",
       "      <th>upload image</th>\n",
       "    </tr>\n",
       "  </thead>\n",
       "  <tbody>\n",
       "    <tr>\n",
       "      <th>0</th>\n",
       "      <td>2020/05/09 1:46:49 PM GMT+5:30</td>\n",
       "      <td>sk@gmail.com</td>\n",
       "      <td>https://drive.google.com/u/0/open?usp=forms_we...</td>\n",
       "    </tr>\n",
       "    <tr>\n",
       "      <th>1</th>\n",
       "      <td>2020/05/09 3:48:26 PM GMT+5:30</td>\n",
       "      <td>ksjfdk@gmail.com</td>\n",
       "      <td>https://drive.google.com/u/0/open?usp=forms_we...</td>\n",
       "    </tr>\n",
       "    <tr>\n",
       "      <th>2</th>\n",
       "      <td>2020/05/09 3:49:07 PM GMT+5:30</td>\n",
       "      <td>mmm@gmail.com</td>\n",
       "      <td>https://drive.google.com/u/0/open?usp=forms_we...</td>\n",
       "    </tr>\n",
       "    <tr>\n",
       "      <th>3</th>\n",
       "      <td>2020/05/09 3:49:39 PM GMT+5:30</td>\n",
       "      <td>hu@gmail.com</td>\n",
       "      <td>https://drive.google.com/u/0/open?usp=forms_we...</td>\n",
       "    </tr>\n",
       "    <tr>\n",
       "      <th>4</th>\n",
       "      <td>2020/05/09 3:50:20 PM GMT+5:30</td>\n",
       "      <td>hey@gmail.com</td>\n",
       "      <td>https://drive.google.com/u/0/open?usp=forms_we...</td>\n",
       "    </tr>\n",
       "  </tbody>\n",
       "</table>\n",
       "</div>"
      ],
      "text/plain": [
       "                        Timestamp             email  \\\n",
       "0  2020/05/09 1:46:49 PM GMT+5:30      sk@gmail.com   \n",
       "1  2020/05/09 3:48:26 PM GMT+5:30  ksjfdk@gmail.com   \n",
       "2  2020/05/09 3:49:07 PM GMT+5:30     mmm@gmail.com   \n",
       "3  2020/05/09 3:49:39 PM GMT+5:30      hu@gmail.com   \n",
       "4  2020/05/09 3:50:20 PM GMT+5:30     hey@gmail.com   \n",
       "\n",
       "                                        upload image  \n",
       "0  https://drive.google.com/u/0/open?usp=forms_we...  \n",
       "1  https://drive.google.com/u/0/open?usp=forms_we...  \n",
       "2  https://drive.google.com/u/0/open?usp=forms_we...  \n",
       "3  https://drive.google.com/u/0/open?usp=forms_we...  \n",
       "4  https://drive.google.com/u/0/open?usp=forms_we...  "
      ]
     },
     "execution_count": 3,
     "metadata": {},
     "output_type": "execute_result"
    }
   ],
   "source": [
    "data"
   ]
  },
  {
   "cell_type": "code",
   "execution_count": 4,
   "metadata": {},
   "outputs": [
    {
     "data": {
      "text/plain": [
       "pandas.core.frame.DataFrame"
      ]
     },
     "execution_count": 4,
     "metadata": {},
     "output_type": "execute_result"
    }
   ],
   "source": [
    "type(data)"
   ]
  },
  {
   "cell_type": "code",
   "execution_count": 5,
   "metadata": {},
   "outputs": [],
   "source": [
    "size = data['upload image'].shape[0]"
   ]
  },
  {
   "cell_type": "code",
   "execution_count": 6,
   "metadata": {},
   "outputs": [],
   "source": [
    "def url_to_jpg(ID,filepath,filename):\n",
    "    img_format = '.jpg'\n",
    "    full_path = '{}{}{}'.format(filepath, filename, img_format)\n",
    "    wget.download(f'https://docs.google.com/uc?export=download&id={ID}', out = full_path)\n",
    "    "
   ]
  },
  {
   "cell_type": "code",
   "execution_count": 7,
   "metadata": {},
   "outputs": [
    {
     "name": "stdout",
     "output_type": "stream",
     "text": [
      "100% [............................................................................] 218952 / 218952"
     ]
    }
   ],
   "source": [
    "file_path = 'images/'\n",
    "for i in range(size):\n",
    "    x = data['upload image'].iloc[i].split('=')[-1]\n",
    "    y = data['email'].iloc[i]\n",
    "    url_to_jpg(x,file_path,y)\n"
   ]
  },
  {
   "cell_type": "code",
   "execution_count": null,
   "metadata": {},
   "outputs": [],
   "source": [
    " def send_mail(sender_mail,sender_pass,receiver_mail,message): \n",
    "    server = smtplib.SMTP(\"smtp.gmail.com\", 587)\n",
    "    server.ehlo()\n",
    "    server.starttls()\n",
    "    server.ehlo()\n",
    "    \n",
    "    server.login(sender_mail,sender_pass)\n",
    "\n",
    "    server.sendmail(sender_mail,receiver_mail,message) \n",
    "\n",
    "    smtpserver.quit() \n",
    "\n"
   ]
  },
  {
   "cell_type": "code",
   "execution_count": null,
   "metadata": {},
   "outputs": [],
   "source": [
    "path = '../images/'"
   ]
  }
 ],
 "metadata": {
  "kernelspec": {
   "display_name": "Python 3",
   "language": "python",
   "name": "python3"
  },
  "language_info": {
   "codemirror_mode": {
    "name": "ipython",
    "version": 3
   },
   "file_extension": ".py",
   "mimetype": "text/x-python",
   "name": "python",
   "nbconvert_exporter": "python",
   "pygments_lexer": "ipython3",
   "version": "3.8.2"
  }
 },
 "nbformat": 4,
 "nbformat_minor": 4
}
